{
  "nbformat": 4,
  "nbformat_minor": 0,
  "metadata": {
    "colab": {
      "provenance": [],
      "authorship_tag": "ABX9TyMdhrWz6cjaRKinewa4ijtu",
      "include_colab_link": true
    },
    "kernelspec": {
      "name": "python3",
      "display_name": "Python 3"
    },
    "language_info": {
      "name": "python"
    }
  },
  "cells": [
    {
      "cell_type": "markdown",
      "metadata": {
        "id": "view-in-github",
        "colab_type": "text"
      },
      "source": [
        "<a href=\"https://colab.research.google.com/github/ojelley/AdventofCode2022/blob/main/aoc22_Day2.ipynb\" target=\"_parent\"><img src=\"https://colab.research.google.com/assets/colab-badge.svg\" alt=\"Open In Colab\"/></a>"
      ]
    },
    {
      "cell_type": "markdown",
      "source": [
        "#Day 2"
      ],
      "metadata": {
        "id": "lq8x59GY66ac"
      }
    },
    {
      "cell_type": "markdown",
      "source": [
        "##Part 1\n",
        "\n",
        "The Elves begin to set up camp on the beach. To decide whose tent gets to be closest to the snack storage, a giant Rock Paper Scissors tournament is already in progress.\n",
        "\n",
        "Appreciative of your help yesterday, one Elf gives you an encrypted strategy guide (your puzzle input) that they say will be sure to help you win. \"The first column is what your opponent is going to play: A for Rock, B for Paper, and C for Scissors. The second column--\" Suddenly, the Elf is called away to help with someone's tent.\n",
        "\n",
        "The second column, you reason, must be what you should play in response: X for Rock, Y for Paper, and Z for Scissors. Winning every time would be suspicious, so the responses must have been carefully chosen.\n",
        "\n",
        "The winner of the whole tournament is the player with the highest score. Your total score is the sum of your scores for each round. The score for a single round is the score for the shape you selected (1 for Rock, 2 for Paper, and 3 for Scissors) plus the score for the outcome of the round (0 if you lost, 3 if the round was a draw, and 6 if you won).\n",
        "\n",
        "What would your total score be if everything goes exactly according to your strategy guide?"
      ],
      "metadata": {
        "id": "fnWjiin77DcG"
      }
    },
    {
      "cell_type": "code",
      "execution_count": null,
      "metadata": {
        "id": "TKoxHPLT6mJ5"
      },
      "outputs": [],
      "source": [
        "from google.colab import drive\n",
        "drive.mount('/content/drive')"
      ]
    },
    {
      "cell_type": "code",
      "source": [
        "# Open data file and convert lines to list\n",
        "with open('/content/drive/My Drive/Colab Notebooks/AdventofCode2022/aoc22_Day2.txt', 'r') as f:\n",
        "  data = f.read().split() #convert data into list of strings"
      ],
      "metadata": {
        "id": "NfSgiqhe7ZFL"
      },
      "execution_count": 8,
      "outputs": []
    },
    {
      "cell_type": "code",
      "source": [
        "# Separate data into opponent and suggested rock paper scissors (RPS)\n",
        "opponentshape = data[::2]\n",
        "suggestedshape = data[1::2]"
      ],
      "metadata": {
        "id": "ynI_7veU7lSH"
      },
      "execution_count": 9,
      "outputs": []
    },
    {
      "cell_type": "code",
      "source": [
        "# Create look up dictionaries\n",
        "shapescore_dic = {'X':1, 'Y':2, 'Z':3, 'A':1, 'B':2, 'C':3} #assign points to shapes\n",
        "winningmatch_dic = {'A':'Y', 'B':'Z', 'C':'X'} #match up winning combos\n",
        "\n",
        "#Initialise Values\n",
        "shapescoretotal = 0 # Total for RPS shapes\n",
        "outcometotal = 0 # Total for Win/Loss/Draw\n",
        "outcomecounter = [0, 0, 0] # Num of Wins, Draws, Losses\n",
        "\n",
        "# Loop for each match\n",
        "for n in range(len(suggestedshape)):\n",
        "  shapescoretotal += shapescore_dic.get(suggestedshape[n]) #total for each RPS shown\n",
        "\n",
        "  # If same RPS shown by both then draw, and a win if shown RPS matches winning shape as per dictionary\n",
        "  if shapescore_dic.get(opponentshape[n]) == shapescore_dic.get(suggestedshape[n]):\n",
        "    outcometotal += 3 #3 points for draw\n",
        "    outcomecounter[1] += 1 #add to draw total\n",
        "  elif winningmatch_dic.get(opponentshape[n]) == suggestedshape[n]:\n",
        "    outcometotal += 6 #6 points for win\n",
        "    outcomecounter[0] += 1 #add to win total\n",
        "  else:\n",
        "    outcomecounter[2] += 1 #add to loss total\n",
        "\n",
        "# Print outcome\n",
        "print('The total strategised score would be', shapescoretotal + outcometotal,\n",
        "      'after winning', outcomecounter[0], 'matches, drawing', outcomecounter[1], 'matches,',\n",
        "      'and losing', outcomecounter[2], 'matches [total', len(opponentshape),'matches]')"
      ],
      "metadata": {
        "colab": {
          "base_uri": "https://localhost:8080/"
        },
        "id": "DDT-RddM-Agu",
        "outputId": "c017cd9f-7f09-42b1-b9dc-3eb4b606ccfd"
      },
      "execution_count": 22,
      "outputs": [
        {
          "output_type": "stream",
          "name": "stdout",
          "text": [
            "The total strategised score would be 8392 after winning 474 matches, drawing 415 matches, and losing 1611 matches [total 2500 matches]\n"
          ]
        }
      ]
    },
    {
      "cell_type": "markdown",
      "source": [
        "##Part 2\n",
        "The Elf finishes helping with the tent and sneaks back over to you. \"Anyway, the second column says how the round needs to end: X means you need to lose, Y means you need to end the round in a draw, and Z means you need to win. Good luck!\"\n",
        "\n",
        "The total score is still calculated in the same way, but now you need to figure out what shape to choose so the round ends as indicated.\n",
        "\n",
        "What would your total score be if everything goes exactly according to your strategy guide?"
      ],
      "metadata": {
        "id": "_W4GSPPNvffI"
      }
    },
    {
      "cell_type": "code",
      "source": [
        "# Correct part one naming for readability\n",
        "suggestedoutcome = data[1::2]\n",
        "\n",
        "# Create look up dictionaries\n",
        "shapescore_dic = {'A':1, 'B':2, 'C':3, 'X':0, 'Y':3, 'Z':6} #assign points for outcome and shapes\n",
        "winningmatch_dic = {'A':2,'B':3,'C':1} #determine winning shape points\n",
        "losingmatch_dic = {'A':3,'B':1,'C':2} #determine losing shape points\n",
        "\n",
        "#Initialise Values\n",
        "shapescoretotal = 0 # Total for RPS shapes\n",
        "outcometotal = 0 # Total for Win/Loss/Draw\n",
        "outcomecounter = [0, 0, 0] # Num of Wins, Draws, Losses\n",
        "\n",
        "# Loop for each match\n",
        "for n in range(len(suggestedoutcome)):\n",
        "  outcometotal += shapescore_dic.get(suggestedoutcome[n]) #total for each win/draw/loss\n",
        "\n",
        "  # If same RPS shown by both then draw, and a win if shown RPS matches winning shape as per dictionary\n",
        "  if suggestedoutcome[n] == 'X':\n",
        "    shapescoretotal += losingmatch_dic.get(opponentshape[n])\n",
        "    outcomecounter[2] += 1 #add to loss total\n",
        "  elif suggestedoutcome[n] == 'Y':\n",
        "    shapescoretotal += shapescore_dic.get(opponentshape[n]) #copy shape to draw and add points for shape\n",
        "    outcomecounter[1] += 1 #add to draw total\n",
        "  else:\n",
        "    shapescoretotal += winningmatch_dic.get(opponentshape[n])\n",
        "    outcomecounter[0] += 1 #add to win total\n",
        "\n",
        "# Print outcome\n",
        "print('The total strategised score would be', shapescoretotal + outcometotal,\n",
        "      'after winning', outcomecounter[0], 'matches, drawing', outcomecounter[1], 'matches,',\n",
        "      'and losing', outcomecounter[2], 'matches [total', len(opponentshape),'matches]')"
      ],
      "metadata": {
        "colab": {
          "base_uri": "https://localhost:8080/"
        },
        "id": "1z8yl-BzwaIA",
        "outputId": "00db5455-23f9-43c9-e0f0-011417598b66"
      },
      "execution_count": 23,
      "outputs": [
        {
          "output_type": "stream",
          "name": "stdout",
          "text": [
            "The total strategised score would be 10116 after winning 280 matches, drawing 1243 matches, and losing 977 matches [total 2500 matches]\n"
          ]
        }
      ]
    }
  ]
}
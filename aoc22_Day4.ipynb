{
  "nbformat": 4,
  "nbformat_minor": 0,
  "metadata": {
    "colab": {
      "provenance": [],
      "authorship_tag": "ABX9TyMoOh9yfR0xVZd3P2B74axU",
      "include_colab_link": true
    },
    "kernelspec": {
      "name": "python3",
      "display_name": "Python 3"
    },
    "language_info": {
      "name": "python"
    }
  },
  "cells": [
    {
      "cell_type": "markdown",
      "metadata": {
        "id": "view-in-github",
        "colab_type": "text"
      },
      "source": [
        "<a href=\"https://colab.research.google.com/github/ojelley/AdventofCode2022/blob/main/aoc22_Day4.ipynb\" target=\"_parent\"><img src=\"https://colab.research.google.com/assets/colab-badge.svg\" alt=\"Open In Colab\"/></a>"
      ]
    },
    {
      "cell_type": "markdown",
      "source": [
        "# Day 4"
      ],
      "metadata": {
        "id": "M9Pw3rea_uvl"
      }
    },
    {
      "cell_type": "markdown",
      "source": [
        "## Part 1\n",
        "\n",
        "Space needs to be cleared before the last supplies can be unloaded from the ships, and so several Elves have been assigned the job of cleaning up sections of the camp. Every section has a unique ID number, and each Elf is assigned a range of section IDs.\n",
        "\n",
        "However, as some of the Elves compare their section assignments with each other, they've noticed that many of the assignments overlap. To try to quickly find overlaps and reduce duplicated effort, the Elves pair up and make a big list of the section assignments for each pair (your puzzle input).\n",
        "\n",
        "For example, consider the following list of section assignment pairs:\n",
        "\n",
        "2-4,6-8\n",
        "2-3,4-5\n",
        "5-7,7-9\n",
        "2-8,3-7\n",
        "6-6,4-6\n",
        "2-6,4-8\n",
        "For the first few pairs, this list means:\n",
        "\n",
        "Within the first pair of Elves, the first Elf was assigned sections 2-4 (sections 2, 3, and 4), while the second Elf was assigned sections 6-8 (sections 6, 7, 8).\n",
        "The Elves in the second pair were each assigned two sections.\n",
        "The Elves in the third pair were each assigned three sections: one got sections 5, 6, and 7, while the other also got 7, plus 8 and 9.\n",
        "This example list uses single-digit section IDs to make it easier to draw; your actual list might contain larger numbers.\n",
        "\n",
        "Some of the pairs have noticed that one of their assignments fully contains the other. For example, 2-8 fully contains 3-7, and 6-6 is fully contained by 4-6. In pairs where one assignment fully contains the other, one Elf in the pair would be exclusively cleaning sections their partner will already be cleaning, so these seem like the most in need of reconsideration. In this example, there are 2 such pairs.\n",
        "\n",
        "In how many assignment pairs does one range fully contain the other?"
      ],
      "metadata": {
        "id": "LZEWEYYs_yr2"
      }
    },
    {
      "cell_type": "code",
      "execution_count": 2,
      "metadata": {
        "colab": {
          "base_uri": "https://localhost:8080/"
        },
        "id": "Oadmyv9v_t8M",
        "outputId": "c53cd10e-06be-419f-e04f-3a66dc1a49d9"
      },
      "outputs": [
        {
          "output_type": "stream",
          "name": "stdout",
          "text": [
            "Mounted at /content/drive\n"
          ]
        }
      ],
      "source": [
        "from google.colab import drive\n",
        "drive.mount('/content/drive')\n",
        "\n",
        "# Open data file and convert lines to list\n",
        "with open('/content/drive/My Drive/Colab Notebooks/AdventofCode2022/aoc22_Day4.txt', 'r') as f:\n",
        "  data = f.read().split() #convert data into list of strings"
      ]
    },
    {
      "cell_type": "code",
      "source": [
        "fullycontained = 0 #initilise counter\n",
        "\n",
        "# Loop for each elf pair\n",
        "for string in data:\n",
        "  # Split and allocate x1-x2,y1-y2 pairs into two lists\n",
        "  hyp1 = string.find('-')\n",
        "  hyp2 = string.rfind('-')\n",
        "  comm = string.find(',')\n",
        "  elf1 = list(range(int(string[:hyp1]), int(string[hyp1+1:comm]) +1))\n",
        "  elf2 = list(range(int(string[comm+1:hyp2]), int(string[hyp2+1:]) +1))\n",
        "\n",
        "  # Determine if x1 and x2 is within range y1-y2 and vice versa\n",
        "  if elf1[0] in elf2 and elf1[-1] in elf2:\n",
        "    fullycontained += 1\n",
        "  elif elf2[0] in elf1 and elf2[-1] in elf1:\n",
        "    fullycontained +=1\n",
        "\n",
        "# Print output\n",
        "print('There are', fullycontained,'elves with work packages fully contained by their partner')"
      ],
      "metadata": {
        "colab": {
          "base_uri": "https://localhost:8080/"
        },
        "id": "j6FgR21f_uYU",
        "outputId": "2a4d3791-323d-44c7-8624-df8c3b077250"
      },
      "execution_count": 18,
      "outputs": [
        {
          "output_type": "stream",
          "name": "stdout",
          "text": [
            "There are 444 elves with work packages fully contained by their partner\n"
          ]
        }
      ]
    },
    {
      "cell_type": "markdown",
      "source": [
        "## Part 2\n",
        "\n",
        "It seems like there is still quite a bit of duplicate work planned. Instead, the Elves would like to know the number of pairs that overlap at all.\n",
        "\n",
        "In how many assignment pairs do the ranges overlap?"
      ],
      "metadata": {
        "id": "rqcBbs_Munsz"
      }
    },
    {
      "cell_type": "code",
      "source": [
        "overlap = 0 #initilise counter\n",
        "\n",
        "# Loop for each elf pair\n",
        "for string in data:\n",
        "  # Split and allocate x1-x2,y1-y2 pairs into two lists\n",
        "  hyp1 = string.find('-')\n",
        "  hyp2 = string.rfind('-')\n",
        "  comm = string.find(',')\n",
        "  elf1 = list(range(int(string[:hyp1]), int(string[hyp1+1:comm]) +1))\n",
        "  elf2 = list(range(int(string[comm+1:hyp2]), int(string[hyp2+1:]) +1))\n",
        "\n",
        "  # Determine if x2 is in y1-y2, x1 is in y1-y2, or y1 is in x1-x2\n",
        "  if (elf1[-1] in elf2) or (elf1[0] in elf2) or (elf2[0] in elf1):\n",
        "    #print('logic 3, for', string)\n",
        "    overlap += 1\n",
        "\n",
        "# Print Output\n",
        "print('There are', overlap,'elves with work packages that overlap with their partner')"
      ],
      "metadata": {
        "colab": {
          "base_uri": "https://localhost:8080/"
        },
        "id": "y7OoJw3vJIPw",
        "outputId": "36d4a82e-eeee-4dbd-99bd-8a22f95d418f"
      },
      "execution_count": 19,
      "outputs": [
        {
          "output_type": "stream",
          "name": "stdout",
          "text": [
            "There are 801 elves with work packages that overlap with their partner\n"
          ]
        }
      ]
    }
  ]
}
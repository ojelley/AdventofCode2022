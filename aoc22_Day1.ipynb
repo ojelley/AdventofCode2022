{
  "nbformat": 4,
  "nbformat_minor": 0,
  "metadata": {
    "colab": {
      "provenance": [],
      "authorship_tag": "ABX9TyONmjD5cdfS0W9xQXp0eM0l",
      "include_colab_link": true
    },
    "kernelspec": {
      "name": "python3",
      "display_name": "Python 3"
    },
    "language_info": {
      "name": "python"
    }
  },
  "cells": [
    {
      "cell_type": "markdown",
      "metadata": {
        "id": "view-in-github",
        "colab_type": "text"
      },
      "source": [
        "<a href=\"https://colab.research.google.com/github/ojelley/AdventofCode2022/blob/main/aoc22_Day1.ipynb\" target=\"_parent\"><img src=\"https://colab.research.google.com/assets/colab-badge.svg\" alt=\"Open In Colab\"/></a>"
      ]
    },
    {
      "cell_type": "markdown",
      "source": [
        "#Day 1"
      ],
      "metadata": {
        "id": "m9uByO95McK4"
      }
    },
    {
      "cell_type": "markdown",
      "source": [
        "**Part 1**\n",
        "\n",
        "The jungle must be too overgrown and difficult to navigate in vehicles or access from the air; the Elves' expedition traditionally goes on foot. As your boats approach land, the Elves begin taking inventory of their supplies. One important consideration is food - in particular, the number of Calories each Elf is carrying (your puzzle input).\n",
        "\n",
        "\n",
        "The Elves take turns writing down the number of Calories contained by the various meals, snacks, rations, etc. that they've brought with them, one item per line. Each Elf separates their own inventory from the previous Elf's inventory (if any) by a blank line.\n",
        "\n",
        "\n",
        "Find the Elf carrying the most Calories. How many total Calories is that Elf carrying?\n",
        "\n",
        "**Part 2**\n",
        "\n",
        "By the time you calculate the answer to the Elves' question, they've already realized that the Elf carrying the most Calories of food might eventually run out of snacks.\n",
        "\n",
        "To avoid this unacceptable situation, the Elves would instead like to know the total Calories carried by the top three Elves carrying the most Calories. That way, even if one of those Elves runs out of snacks, they still have two backups.\n",
        "\n",
        "Find the top three Elves carrying the most Calories. How many Calories are those Elves carrying in total?"
      ],
      "metadata": {
        "id": "k7Lme25XJuk4"
      }
    },
    {
      "cell_type": "code",
      "execution_count": 2,
      "metadata": {
        "colab": {
          "base_uri": "https://localhost:8080/"
        },
        "id": "B_bDiRC0MTLF",
        "outputId": "9e27e1ce-6584-4363-ea49-bd81f8b3ee62"
      },
      "outputs": [
        {
          "output_type": "stream",
          "name": "stdout",
          "text": [
            "Mounted at /content/drive\n"
          ]
        }
      ],
      "source": [
        "from google.colab import drive\n",
        "drive.mount('/content/drive')"
      ]
    },
    {
      "cell_type": "code",
      "source": [
        "# Open data file and convert lines to list\n",
        "with open('/content/drive/My Drive/Colab Notebooks/AdventofCode2022/aoc22_Day1.txt', 'r') as f:\n",
        "  data = f.read().splitlines() #convert string elements to integers"
      ],
      "metadata": {
        "id": "qG_IvwGUM5oi"
      },
      "execution_count": 3,
      "outputs": []
    },
    {
      "cell_type": "code",
      "source": [
        "#initialise lists\n",
        "elfcalorie = [0]\n",
        "nextelf = 0\n",
        "\n",
        "for num in data:\n",
        "  #check if gap reached\n",
        "  if num == '':\n",
        "    elfcalorie += [0] #add element to list for next elf\n",
        "    nextelf += 1      #move to next elf\n",
        "  #if not at divider, add next calorie packet to current elf total\n",
        "  else:\n",
        "    elfcalorie[nextelf] += int(num)\n",
        "\n",
        "#identify top three calorie values and elves and find total\n",
        "sortedcal =sorted(elfcalorie) #sort calories list\n",
        "podium = ['most','2nd most', '3rd most']\n",
        "podiumtotal = 0\n",
        "\n",
        "#find the most, 2nd most, and 3rd most calorie amounts and elf\n",
        "for i in [1,2,3]:\n",
        "  podiumtotal += sortedcal[-i]\n",
        "  print('Elf', elfcalorie.index(sortedcal[-i]), 'carries the',podium[i-1] , 'calories with', sortedcal[-i], 'cal')\n",
        "\n",
        "print('The top three have a total of', podiumtotal ,'calories')"
      ],
      "metadata": {
        "colab": {
          "base_uri": "https://localhost:8080/"
        },
        "id": "7ZegQrkrYYZW",
        "outputId": "782cccab-6e9c-40ab-9436-f0696c38e8aa"
      },
      "execution_count": 44,
      "outputs": [
        {
          "output_type": "stream",
          "name": "stdout",
          "text": [
            "Elf 208 carries the most calories with 74198 cal\n",
            "Elf 9 carries the 2nd most calories with 67958 cal\n",
            "Elf 179 carries the 3rd most calories with 67758 cal\n",
            "The top three have a total of 209914 calories\n"
          ]
        }
      ]
    }
  ]
}

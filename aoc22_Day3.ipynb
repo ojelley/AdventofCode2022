{
  "nbformat": 4,
  "nbformat_minor": 0,
  "metadata": {
    "colab": {
      "provenance": [],
      "authorship_tag": "ABX9TyN3LjVP+iIgZCFlJ4dEfP5K",
      "include_colab_link": true
    },
    "kernelspec": {
      "name": "python3",
      "display_name": "Python 3"
    },
    "language_info": {
      "name": "python"
    }
  },
  "cells": [
    {
      "cell_type": "markdown",
      "metadata": {
        "id": "view-in-github",
        "colab_type": "text"
      },
      "source": [
        "<a href=\"https://colab.research.google.com/github/ojelley/AdventofCode2022/blob/main/aoc22_Day3.ipynb\" target=\"_parent\"><img src=\"https://colab.research.google.com/assets/colab-badge.svg\" alt=\"Open In Colab\"/></a>"
      ]
    },
    {
      "cell_type": "markdown",
      "source": [
        "#Day 3"
      ],
      "metadata": {
        "id": "1Bp8sVyRMY8U"
      }
    },
    {
      "cell_type": "markdown",
      "source": [
        "##Part 1\n",
        "\n",
        "One Elf has the important job of loading all of the rucksacks with supplies for the jungle journey. Unfortunately, that Elf didn't quite follow the packing instructions, and so a few items now need to be rearranged.\n",
        "\n",
        "Each rucksack has two large compartments. All items of a given type are meant to go into exactly one of the two compartments. The Elf that did the packing failed to follow this rule for exactly one item type per rucksack.\n",
        "\n",
        "The Elves have made a list of all of the items currently in each rucksack (your puzzle input), but they need your help finding the errors. Every item type is identified by a single lowercase or uppercase letter (that is, a and A refer to different types of items).\n",
        "\n",
        "The list of items for each rucksack is given as characters all on a single line. A given rucksack always has the same number of items in each of its two compartments, so the first half of the characters represent items in the first compartment, while the second half of the characters represent items in the second compartment.\n",
        "\n",
        "To help prioritize item rearrangement, every item type can be converted to a priority:\n",
        "\n",
        "Lowercase item types a through z have priorities 1 through 26.\n",
        "Uppercase item types A through Z have priorities 27 through 52.\n",
        "\n",
        "Find the item type that appears in both compartments of each rucksack. What is the sum of the priorities of those item types?"
      ],
      "metadata": {
        "id": "MkZ3yYpqMZ9F"
      }
    },
    {
      "cell_type": "code",
      "execution_count": null,
      "metadata": {
        "id": "HJzyg9OlMKGC"
      },
      "outputs": [],
      "source": [
        "from google.colab import drive\n",
        "drive.mount('/content/drive')\n",
        "\n",
        "# Open data file and convert lines to list\n",
        "with open('/content/drive/My Drive/Colab Notebooks/AdventofCode2022/aoc22_Day3.txt', 'r') as f:\n",
        "  data = f.read().split() #convert data into list of strings"
      ]
    },
    {
      "cell_type": "code",
      "source": [
        "# Initialise variables\n",
        "commonitem = [] #item in both half of string/both compartments\n",
        "totalpriorityscore = 0\n",
        "\n",
        "# Loop for each elf's rucksack\n",
        "for rucksack in data:\n",
        "  # Split each rucksack into two compartments and eliminate duplicates with set()\n",
        "  for n in set(rucksack[0:len(rucksack)//2]): #loop for first compartment\n",
        "    # Identify common element in both compartments\n",
        "    if n in set(rucksack[len(rucksack)//2:]): #find dubplciate in second compartment\n",
        "      commonitem.append(n) #add common item to list\n",
        "      if n.islower():\n",
        "        totalpriorityscore += ord(n)-96 #if lowercase, find unicode and translate to 1-26 score\n",
        "      else:\n",
        "        totalpriorityscore += ord(n)-38 #if uppercase, find unicode adn translate to 27-52\n",
        "      break\n",
        "\n",
        "# Output results\n",
        "print(commonitem)\n",
        "print('The sum of the duplicated items is:', totalpriorityscore)\n"
      ],
      "metadata": {
        "colab": {
          "base_uri": "https://localhost:8080/"
        },
        "id": "FmWfbfJJPzUX",
        "outputId": "6825aace-e220-493d-cce8-d8be7ab9c9eb"
      },
      "execution_count": null,
      "outputs": [
        {
          "output_type": "stream",
          "name": "stdout",
          "text": [
            "['F', 'n', 'j', 'L', 'r', 'z', 'Q', 'C', 'w', 'G', 'P', 'n', 'z', 'q', 's', 'Z', 'n', 'v', 'G', 'n', 'W', 'B', 'P', 't', 'f', 'B', 'J', 'P', 'V', 'f', 'm', 'F', 'h', 's', 'H', 'q', 'q', 'N', 'F', 'c', 'R', 't', 'q', 'm', 'h', 'l', 'R', 'h', 'f', 'G', 'p', 'z', 'W', 'G', 'g', 'r', 'H', 'w', 'H', 'm', 'g', 'w', 'Q', 'z', 'T', 't', 'c', 'f', 'r', 't', 'g', 'C', 'D', 'm', 'q', 't', 'D', 'j', 'H', 'B', 'N', 'v', 'R', 'p', 'L', 'F', 'H', 'W', 'd', 'N', 'q', 'S', 'f', 'F', 'G', 'l', 'G', 'j', 'w', 'q', 'n', 'p', 'd', 'h', 'm', 'm', 'S', 'v', 'w', 'D', 'c', 's', 'T', 'd', 'l', 'T', 'Z', 'W', 'S', 'M', 'C', 'b', 'Q', 'N', 'S', 'v', 'B', 'l', 'P', 'h', 'N', 'Z', 'P', 'S', 'R', 'n', 'w', 'b', 'l', 'M', 'v', 'Q', 'n', 'S', 'l', 'b', 'D', 'p', 'l', 'B', 'N', 'S', 'p', 'p', 'J', 'v', 'g', 'J', 'T', 'z', 'D', 'W', 'N', 'W', 'c', 'G', 'Q', 'C', 'm', 'p', 'h', 'N', 'd', 'Q', 'M', 'j', 'r', 'c', 'H', 'v', 'W', 'F', 'Z', 'H', 'j', 'C', 'g', 'N', 'm', 'P', 'q', 's', 'F', 'J', 'w', 'C', 'W', 't', 's', 'z', 'M', 'f', 'l', 'v', 'W', 'v', 'C', 'v', 'z', 'S', 'C', 'Z', 'D', 'C', 'w', 'L', 'S', 'l', 'C', 'F', 'q', 'w', 't', 'C', 'D', 'c', 'd', 'D', 'z', 'b', 'L', 'P', 'f', 'G', 'T', 'm', 'n', 'H', 'V', 'Z', 'c', 'm', 'q', 'Z', 'D', 'T', 'J', 'f', 'Z', 'j', 'q', 'n', 'Z', 'T', 'd', 'D', 'J', 'z', 'T', 'w', 'z', 'z', 'N', 'T', 't', 'v', 'C', 'N', 'T', 'G', 'P', 'V', 'T', 'g', 'm', 'C', 's', 'z', 'g', 'F', 'H', 't', 't', 'w', 'C', 'B', 'G', 'p', 'f', 'r', 'd', 'f', 'Q', 'v', 'M', 't', 'w', 's', 'R', 'f']\n",
            "The sum of the duplicated items is: 7889\n"
          ]
        }
      ]
    },
    {
      "cell_type": "code",
      "source": [
        "## Part 1 Alternative Code\n",
        "\n",
        "alphabetpriority = 'abcdefghijklmnopqrstuvwxyzABCDEFGHIJKLMNOPQRSTUVWXYZ'\n",
        "commonitem = []\n",
        "totalpriorityscore = 0\n",
        "\n",
        "import time\n",
        "start_time = time.time()\n",
        "\n",
        "for rucksack in data:\n",
        "  for n in set(rucksack[0:len(rucksack)//2]):\n",
        "    if n in set(rucksack[len(rucksack)//2:]):\n",
        "      commonitem.append(n)\n",
        "      totalpriorityscore += alphabetpriority.index(n) + 1\n",
        "      break\n",
        "\n",
        "print(commonitem)\n",
        "print(totalpriorityscore)\n",
        "\n",
        "print(\"--- %s seconds ---\" % (time.time() - start_time))\n"
      ],
      "metadata": {
        "id": "uhB9n8YXKSwL"
      },
      "execution_count": null,
      "outputs": []
    },
    {
      "cell_type": "markdown",
      "source": [
        "## Part 2"
      ],
      "metadata": {
        "id": "ZtGWWjkbarOX"
      }
    },
    {
      "cell_type": "markdown",
      "source": [
        "As you finish identifying the misplaced items, the Elves come to you with another issue.\n",
        "\n",
        "For safety, the Elves are divided into groups of three. Every Elf carries a badge that identifies their group. For efficiency, within each group of three Elves, the badge is the only item type carried by all three Elves. That is, if a group's badge is item type B, then all three Elves will have item type B somewhere in their rucksack, and at most two of the Elves will be carrying any other item type.\n",
        "\n",
        "The problem is that someone forgot to put this year's updated authenticity sticker on the badges. All of the badges need to be pulled out of the rucksacks so the new authenticity stickers can be attached.\n",
        "\n",
        "Additionally, nobody wrote down which item type corresponds to each group's badges. The only way to tell which item type is the right one is by finding the one item type that is common between all three Elves in each group.\n",
        "\n",
        "Every set of three lines in your list corresponds to a single group, but each group can have a different badge item type.\n",
        "\n",
        "Priorities for these items must still be found to organize the sticker attachment efforts.\n",
        "\n",
        "Find the item type that corresponds to the badges of each three-Elf group. What is the sum of the priorities of those item types?"
      ],
      "metadata": {
        "id": "duqPwovBaxl1"
      }
    },
    {
      "cell_type": "code",
      "source": [
        "# Initialise variables\n",
        "alphabetpriority = 'abcdefghijklmnopqrstuvwxyzABCDEFGHIJKLMNOPQRSTUVWXYZ'\n",
        "commonitem3x = [] #for the items common to each group of elves\n",
        "totalelfgroups = 0\n",
        "\n",
        "import time\n",
        "start_time = time.time()\n",
        "\n",
        "# Loop for each group of 3 elves\n",
        "for group in range(0, len(data), 3):\n",
        "  # Loop for each item in the first rucksack of the group\n",
        "  for n in set(data[group]):\n",
        "    # Check if item is also present in the other two rucksacks of group\n",
        "    if n in set(data[group+1]) and n in set(data[group+2]):\n",
        "      commonitem3x.append(n) #add commmon item to list\n",
        "      totalelfgroups += alphabetpriority.index(n) + 1 #look up priority/score for item/badge\n",
        "      break\n",
        "\n",
        "# Output results\n",
        "print(commonitem3x)\n",
        "print('The sum of the duplicated items is:', totalelfgroups)\n",
        "\n",
        "print(\"--- %s seconds ---\" % (time.time() - start_time))\n"
      ],
      "metadata": {
        "id": "rGed58pGawpf",
        "colab": {
          "base_uri": "https://localhost:8080/"
        },
        "outputId": "d62635c0-3160-4477-c6e7-f9aa12e8ae30"
      },
      "execution_count": 48,
      "outputs": [
        {
          "output_type": "stream",
          "name": "stdout",
          "text": [
            "['M', 'M', 'f', 'Q', 'P', 'p', 'R', 'w', 'j', 'q', 'q', 'b', 'm', 'W', 'b', 't', 'W', 'g', 'd', 'z', 'W', 'q', 'm', 'G', 'M', 'N', 'P', 'd', 'P', 'b', 'r', 'J', 'm', 'P', 'p', 'w', 'Z', 'w', 'v', 'Q', 'H', 'M', 'F', 'w', 'm', 'M', 'P', 'L', 'B', 'W', 'L', 'S', 'N', 'r', 'S', 'p', 'D', 'G', 'f', 'd', 'T', 't', 'j', 'Z', 'W', 'B', 'V', 'w', 'r', 'J', 'N', 'h', 'Q', 'h', 'S', 'T', 'W', 'F', 'c', 'C', 'T', 's', 'T', 'l', 'G', 'R', 'L', 'm', 'q', 'P', 'G', 'w', 'B', 'M', 'c', 'c', 'G', 'j', 'm', 'V']\n",
            "The sum of the duplicated items is: 2825\n",
            "--- 0.010283946990966797 seconds ---\n"
          ]
        }
      ]
    }
  ]
}